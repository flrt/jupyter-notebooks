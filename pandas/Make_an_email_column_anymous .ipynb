{
 "cells": [
  {
   "cell_type": "code",
   "execution_count": 1,
   "metadata": {},
   "outputs": [],
   "source": [
    "fname='/tmp/asip/Extraction_Correspondance_MSSante_201805280855.txt'\n",
    "KEYS_CORRESP = [\"type_bal\", \"adresse_bal\", \"type_identifiant_pp\", \"identifiant_pp\",\n",
    "        \"identification_nationale_pp\", \"type_identifiant_structure\", \"identification_structure\",\"service_rattachement\", \"civilite_exercice\", \"nom_exercice\", \"prenom_exercice\",\n",
    "        \"categorie_professionnelle\", \"libelle_categorie_professionelle\", \"code_profession\",\n",
    "        \"libelle_profession\", \"code_savoir_faire\", \"libelle_savoir_faire\",\n",
    "        \"dematerialisation\", \"raison_sociale_structure_bal\", \"enseigne_commerciale_structure_bal\",\n",
    "        \"complement_localisation_structure_bal\", \"complement_distribution_structure_bal\",\n",
    "        \"numero_voie_structure_bal\", \"complement_numero_voie_structure_bal\",\n",
    "        \"type_voie_structure_bal\", \"libelle_voie_structure_bal\", \"lieu_dit_mention_structure_bal\",\n",
    "        \"ligne_acheminement_structure_bal\", \"code_postal_structure_bal\",\n",
    "        \"departement_structure_bal\", \"pays_structure_bal\"]"
   ]
  },
  {
   "cell_type": "markdown",
   "metadata": {},
   "source": [
    "Read data with Pandas"
   ]
  },
  {
   "cell_type": "code",
   "execution_count": 2,
   "metadata": {},
   "outputs": [
    {
     "name": "stderr",
     "output_type": "stream",
     "text": [
      "/anaconda3/lib/python3.6/site-packages/IPython/core/interactiveshell.py:2728: DtypeWarning: Columns (5,6) have mixed types. Specify dtype option on import or set low_memory=False.\n",
      "  interactivity=interactivity, compiler=compiler, result=result)\n"
     ]
    }
   ],
   "source": [
    "import pandas\n",
    "\n",
    "df=pandas.read_csv(fname, delimiter='|', names=KEYS_CORRESP, header=0, index_col=False)"
   ]
  },
  {
   "cell_type": "code",
   "execution_count": 3,
   "metadata": {},
   "outputs": [],
   "source": [
    "import re\n",
    "import hashlib"
   ]
  },
  {
   "cell_type": "code",
   "execution_count": 4,
   "metadata": {},
   "outputs": [],
   "source": [
    "rmail=re.compile(\"([^@]+)@([^@]+\\.[^@]+)\")"
   ]
  },
  {
   "cell_type": "markdown",
   "metadata": {},
   "source": [
    "#### Regex test + md5"
   ]
  },
  {
   "cell_type": "code",
   "execution_count": 5,
   "metadata": {},
   "outputs": [],
   "source": [
    "r=rmail.match('gaston.lagaffe@medecin.mssante.fr')"
   ]
  },
  {
   "cell_type": "code",
   "execution_count": 6,
   "metadata": {},
   "outputs": [
    {
     "data": {
      "text/plain": [
       "('gaston.lagaffe', 'medecin.mssante.fr')"
      ]
     },
     "execution_count": 6,
     "metadata": {},
     "output_type": "execute_result"
    }
   ],
   "source": [
    "r.groups()"
   ]
  },
  {
   "cell_type": "code",
   "execution_count": 7,
   "metadata": {},
   "outputs": [
    {
     "data": {
      "text/plain": [
       "'9afe49ba7d7d4a2fe5ccdea085c1e14231488d9242061886cd1bbaaf176b89c2'"
      ]
     },
     "execution_count": 7,
     "metadata": {},
     "output_type": "execute_result"
    }
   ],
   "source": [
    "hashlib.sha256(r.group(1).encode('utf-8')).hexdigest()"
   ]
  },
  {
   "cell_type": "markdown",
   "metadata": {},
   "source": [
    "#### Replace definition  \n",
    "Define the regex : two groups for the email : bob = group1 + '@' + mail.com = group2\n",
    "\n",
    "Define the `repl` function to code bob\n",
    "\n",
    "Apply the replace function to the column"
   ]
  },
  {
   "cell_type": "markdown",
   "metadata": {},
   "source": [
    "Email regex"
   ]
  },
  {
   "cell_type": "code",
   "execution_count": null,
   "metadata": {},
   "outputs": [],
   "source": [
    "regmail=r'([^@]+)@([^@]+\\.[^@]+)'"
   ]
  },
  {
   "cell_type": "markdown",
   "metadata": {},
   "source": [
    "Replace function : take the groups tuple, replace the first part and concat the second (mail domain) with the @ character"
   ]
  },
  {
   "cell_type": "code",
   "execution_count": 8,
   "metadata": {},
   "outputs": [],
   "source": [
    "repl = lambda m: '@'.join([hashlib.sha256(m.group(1).encode('utf-8')).hexdigest(), m.group(2)])"
   ]
  },
  {
   "cell_type": "markdown",
   "metadata": {},
   "source": [
    "Test me :)"
   ]
  },
  {
   "cell_type": "code",
   "execution_count": 14,
   "metadata": {},
   "outputs": [
    {
     "data": {
      "text/plain": [
       "'9afe49ba7d7d4a2fe5ccdea085c1e14231488d9242061886cd1bbaaf176b89c2@chu-caen.mssante.fr'"
      ]
     },
     "execution_count": 14,
     "metadata": {},
     "output_type": "execute_result"
    }
   ],
   "source": [
    "repl(rmail.match('gaston.lagaffe@chu-caen.mssante.fr'))"
   ]
  },
  {
   "cell_type": "markdown",
   "metadata": {},
   "source": [
    "Count the number of unique email before the email processing"
   ]
  },
  {
   "cell_type": "code",
   "execution_count": 11,
   "metadata": {},
   "outputs": [
    {
     "data": {
      "text/plain": [
       "123804"
      ]
     },
     "execution_count": 11,
     "metadata": {},
     "output_type": "execute_result"
    }
   ],
   "source": [
    "df.adresse_bal.nunique()"
   ]
  },
  {
   "cell_type": "markdown",
   "metadata": {},
   "source": [
    "Make the replacement"
   ]
  },
  {
   "cell_type": "code",
   "execution_count": 12,
   "metadata": {},
   "outputs": [],
   "source": [
    "df['adresse_bal']=df.adresse_bal.str.replace(regmail, repl)"
   ]
  },
  {
   "cell_type": "markdown",
   "metadata": {},
   "source": [
    "Count the number of unique email after the email processing"
   ]
  },
  {
   "cell_type": "code",
   "execution_count": 13,
   "metadata": {},
   "outputs": [
    {
     "data": {
      "text/plain": [
       "123804"
      ]
     },
     "execution_count": 13,
     "metadata": {},
     "output_type": "execute_result"
    }
   ],
   "source": [
    "df.adresse_bal.nunique()"
   ]
  },
  {
   "cell_type": "code",
   "execution_count": 16,
   "metadata": {},
   "outputs": [
    {
     "data": {
      "text/plain": [
       "38c761d4b845efce9769a718180d187b64c28c6473ac8f72b4d754082a90248d@medecin.mssante.fr        10\n",
       "5534e4777ed4818d30bcce1c057ec6e4a4c70937d3a2d8a214d915e6d37ee79a@pc.mssante.fr              9\n",
       "ca91697a8eeb37d11476760e1bfa5af22a1b434ac0e820fbdda09f61088d9280@aura.mssante.fr            7\n",
       "d0e4f9b5d2117a2b9f209e8f55f1b667603906e85412cdc3e9998b30846ee822@pro.mssante.fr             6\n",
       "f1aad7814618155c5420165d17d27ace6a76733a91b935735d0bd056d0c92b52@medecin.mssante.fr         6\n",
       "5ef6b25e9c43417795fbcc5f54948b8a24e7e9548e6237ebddd9e36d6ce9be56@medecin.mssante.fr         6\n",
       "1571e48c15928f1c0abced7004b7307b24360a8627b7be8fef9e3d72c32e6603@aura.mssante.fr            6\n",
       "0dfd5a6bd3f3e306c1a5a1ccbf2caf7c886e6067d81232baf874282d73721655@ramsaygds.mssante.fr       6\n",
       "4687fab37e7c756b2a37a01805d2a50d2b9eab25e2b044f8cd12bce71fc54403@medecin.mssante.fr         6\n",
       "752f6e0f8b4d4a3ccdfed41db77eae874e463e8c6d5ee046a5251ff1f2cf59b5@medecin.mssante.fr         6\n",
       "ce136af30fe7c8d02320e96f1e162ea9d24e4ee1819efcb17b9f5776dc706ef4@paca.mssante.fr            6\n",
       "be51827c984d28791bca5810a6f67cf60003f7cf23027c07e3876dfef46d4dc2@paca.mssante.fr            6\n",
       "8c5500177a09bad9b9041456415aaa4fdf8ca7281e03bf0f78b269b980fc48ce@chu-limoges.mssante.fr     5\n",
       "9774381a7ca2ad8556eb8a8804cf2127f8825e208522e042b8782f8fc0414c94@medecin.mssante.fr         5\n",
       "dda85e28167edd82a0ede17bba85efbdf9cc669fbb9d21aec9fed0f89cccc180@medecin.mssante.fr         5\n",
       "Name: adresse_bal, dtype: int64"
      ]
     },
     "execution_count": 16,
     "metadata": {},
     "output_type": "execute_result"
    }
   ],
   "source": [
    "df.adresse_bal.value_counts().head(15)"
   ]
  }
 ],
 "metadata": {
  "kernelspec": {
   "display_name": "Python 3",
   "language": "python",
   "name": "python3"
  },
  "language_info": {
   "codemirror_mode": {
    "name": "ipython",
    "version": 3
   },
   "file_extension": ".py",
   "mimetype": "text/x-python",
   "name": "python",
   "nbconvert_exporter": "python",
   "pygments_lexer": "ipython3",
   "version": "3.6.4"
  }
 },
 "nbformat": 4,
 "nbformat_minor": 2
}
