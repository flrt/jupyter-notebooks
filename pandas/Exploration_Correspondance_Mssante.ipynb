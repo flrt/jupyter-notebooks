{
 "cells": [
  {
   "cell_type": "markdown",
   "metadata": {},
   "source": [
    "# [Opikanoba.org](https://opikanoba.org)\n",
    "\n",
    "## Extraction beta Publique Correspondance MSSanté \n",
    "Ce notebook se base sur l'extraction publique du 28/05/2018 disponible sur le site de l'ASIP Sante.\n",
    "Elle est téléchargeable dans la rubrique [Extractions en libre accès](https://annuaire.sante.fr/web/site-pro/extractions-mss). Le fichier est téléchargé localement dans le répertoire `/tmp/asip`.\n",
    "\n",
    "Le notebook est disponible en open source sur github : https://github.com/flrt/jupyter-notebooks"
   ]
  },
  {
   "cell_type": "code",
   "execution_count": 5,
   "metadata": {},
   "outputs": [],
   "source": [
    "fname='/tmp/asip/Extraction_Correspondance_MSSante_201805280855.txt'"
   ]
  },
  {
   "cell_type": "markdown",
   "metadata": {},
   "source": [
    "Redéfinition des clés pour enlever les espaces et autres caractères. Plus pratique à manipuler."
   ]
  },
  {
   "cell_type": "code",
   "execution_count": 6,
   "metadata": {},
   "outputs": [],
   "source": [
    "KEYS_CORRESP = [\"type_bal\", \"adresse_bal\", \"type_identifiant_pp\", \"identifiant_pp\",\n",
    "        \"identification_nationale_pp\", \"type_identifiant_structure\", \"identification_structure\",\"service_rattachement\", \"civilite_exercice\", \"nom_exercice\", \"prenom_exercice\",\n",
    "        \"categorie_professionnelle\", \"libelle_categorie_professionelle\", \"code_profession\",\n",
    "        \"libelle_profession\", \"code_savoir_faire\", \"libelle_savoir_faire\",\n",
    "        \"dematerialisation\", \"raison_sociale_structure_bal\", \"enseigne_commerciale_structure_bal\",\n",
    "        \"complement_localisation_structure_bal\", \"complement_distribution_structure_bal\",\n",
    "        \"numero_voie_structure_bal\", \"complement_numero_voie_structure_bal\",\n",
    "        \"type_voie_structure_bal\", \"libelle_voie_structure_bal\", \"lieu_dit_mention_structure_bal\",\n",
    "        \"ligne_acheminement_structure_bal\", \"code_postal_structure_bal\",\n",
    "        \"departement_structure_bal\", \"pays_structure_bal\"]"
   ]
  },
  {
   "cell_type": "code",
   "execution_count": 8,
   "metadata": {},
   "outputs": [
    {
     "name": "stderr",
     "output_type": "stream",
     "text": [
      "/anaconda3/lib/python3.6/site-packages/IPython/core/interactiveshell.py:2728: DtypeWarning: Columns (5,6) have mixed types. Specify dtype option on import or set low_memory=False.\n",
      "  interactivity=interactivity, compiler=compiler, result=result)\n"
     ]
    }
   ],
   "source": [
    "import pandas\n",
    "\n",
    "df=pandas.read_csv(fname, delimiter='|', names=KEYS_CORRESP, header=0, index_col=False)"
   ]
  },
  {
   "cell_type": "markdown",
   "metadata": {},
   "source": [
    "Nombre de lignes du fichier de données"
   ]
  },
  {
   "cell_type": "code",
   "execution_count": 72,
   "metadata": {},
   "outputs": [
    {
     "data": {
      "text/plain": [
       "125268"
      ]
     },
     "execution_count": 72,
     "metadata": {},
     "output_type": "execute_result"
    }
   ],
   "source": [
    "len(df)"
   ]
  },
  {
   "cell_type": "markdown",
   "metadata": {},
   "source": [
    "### Professions présentes dans le fichier"
   ]
  },
  {
   "cell_type": "code",
   "execution_count": 73,
   "metadata": {},
   "outputs": [
    {
     "data": {
      "text/plain": [
       "Médecin                              81817\n",
       "Infirmier                            13135\n",
       "Pharmacien                            5990\n",
       "Orthophoniste                         5651\n",
       "Masseur-Kiné                          5101\n",
       "Sage-Femme                            2101\n",
       "Chirurgien-Dentiste                   1613\n",
       "Orthoptiste                            235\n",
       "Pédicure-Podologue                     211\n",
       "Diététicien                            206\n",
       "Ergothérapeute                          87\n",
       "Psychomotricien                         74\n",
       "Manipulateur ERM                        71\n",
       "Technicien de laboratoire médical       27\n",
       "Audioprothésiste                        11\n",
       "Opticien-Lunetier                        4\n",
       "Orthoprothésiste                         2\n",
       "Orthopédiste-Orthésiste                  2\n",
       "Podo-Orthésiste                          1\n",
       "Name: libelle_profession, dtype: int64"
      ]
     },
     "execution_count": 73,
     "metadata": {},
     "output_type": "execute_result"
    }
   ],
   "source": [
    "df.libelle_profession.value_counts()"
   ]
  },
  {
   "cell_type": "code",
   "execution_count": 74,
   "metadata": {},
   "outputs": [
    {
     "data": {
      "text/plain": [
       "106653"
      ]
     },
     "execution_count": 74,
     "metadata": {},
     "output_type": "execute_result"
    }
   ],
   "source": [
    "df['identifiant_pp'].nunique()"
   ]
  },
  {
   "cell_type": "code",
   "execution_count": 75,
   "metadata": {},
   "outputs": [
    {
     "data": {
      "text/plain": [
       "2"
      ]
     },
     "execution_count": 75,
     "metadata": {},
     "output_type": "execute_result"
    }
   ],
   "source": [
    "df.type_bal.nunique()"
   ]
  },
  {
   "cell_type": "markdown",
   "metadata": {},
   "source": [
    "Type de boite aux lettres : PER pour personnel et ORG pour Organisationnelle"
   ]
  },
  {
   "cell_type": "code",
   "execution_count": 76,
   "metadata": {},
   "outputs": [
    {
     "data": {
      "text/plain": [
       "PER    116339\n",
       "ORG      8929\n",
       "Name: type_bal, dtype: int64"
      ]
     },
     "execution_count": 76,
     "metadata": {},
     "output_type": "execute_result"
    }
   ],
   "source": [
    "df.type_bal.value_counts()"
   ]
  },
  {
   "cell_type": "code",
   "execution_count": 9,
   "metadata": {},
   "outputs": [],
   "source": [
    "df2=df.loc[df.type_bal=='PER']"
   ]
  },
  {
   "cell_type": "code",
   "execution_count": 10,
   "metadata": {},
   "outputs": [
    {
     "data": {
      "text/plain": [
       "116339"
      ]
     },
     "execution_count": 10,
     "metadata": {},
     "output_type": "execute_result"
    }
   ],
   "source": [
    "len(df2)"
   ]
  },
  {
   "cell_type": "markdown",
   "metadata": {},
   "source": [
    "Suppression des enregistrements en double, et extraction des fournisseurs d'adresse MSSanté"
   ]
  },
  {
   "cell_type": "code",
   "execution_count": 11,
   "metadata": {},
   "outputs": [],
   "source": [
    "df3 = df.loc[df2.drop_duplicates('adresse_bal').adresse_bal.dropna().index]"
   ]
  },
  {
   "cell_type": "code",
   "execution_count": 12,
   "metadata": {},
   "outputs": [],
   "source": [
    "mss_providers = df3.adresse_bal.str.split('@', expand=True).get(1)"
   ]
  },
  {
   "cell_type": "code",
   "execution_count": 13,
   "metadata": {},
   "outputs": [
    {
     "data": {
      "text/plain": [
       "medecin.mssante.fr                     25207\n",
       "aura.mssante.fr                         9799\n",
       "pro.mssante.fr                          5764\n",
       "infirmier.mssante.fr                    5382\n",
       "ramsaygds.mssante.fr                    5040\n",
       "medecin.mp.mssante.fr                   4584\n",
       "ssa.mssante.fr                          4263\n",
       "orthophoniste.mssante.fr                4206\n",
       "sephira.mssante.fr                      3974\n",
       "masseur-kinesitherapeute.mssante.fr     2710\n",
       "Name: 1, dtype: int64"
      ]
     },
     "execution_count": 13,
     "metadata": {},
     "output_type": "execute_result"
    }
   ],
   "source": [
    "mss_providers.value_counts().head(10)"
   ]
  },
  {
   "cell_type": "code",
   "execution_count": 14,
   "metadata": {},
   "outputs": [],
   "source": [
    "#_df=df[df['adresse_bal'].str.contains('medecin.mssante.fr')]\n",
    "#_df.adresse_bal.value_counts()[_df.adresse_bal.value_counts()>4]"
   ]
  },
  {
   "cell_type": "markdown",
   "metadata": {},
   "source": [
    "Focus sur les CHU"
   ]
  },
  {
   "cell_type": "code",
   "execution_count": 15,
   "metadata": {},
   "outputs": [],
   "source": [
    "chu_mss=df3[df3['adresse_bal'].str.match('.*((ch(r?)u-)|aphm|aphp).*')]\n",
    "chu_vc = chu_mss.adresse_bal.value_counts()[chu_mss.adresse_bal.value_counts()>1]\n"
   ]
  },
  {
   "cell_type": "markdown",
   "metadata": {},
   "source": [
    "Vérification qu'il n'y a pas de doublons : aucun enregistrement dans chu_vc"
   ]
  },
  {
   "cell_type": "code",
   "execution_count": 16,
   "metadata": {},
   "outputs": [
    {
     "data": {
      "text/plain": [
       "Series([], Name: adresse_bal, dtype: int64)"
      ]
     },
     "execution_count": 16,
     "metadata": {},
     "output_type": "execute_result"
    }
   ],
   "source": [
    "chu_vc"
   ]
  },
  {
   "cell_type": "code",
   "execution_count": 17,
   "metadata": {},
   "outputs": [],
   "source": [
    "chu_vals=mss_providers.value_counts().filter(regex='.*((ch(r?)u-)|aphm|aphp).*', axis=0)"
   ]
  },
  {
   "cell_type": "code",
   "execution_count": 20,
   "metadata": {},
   "outputs": [
    {
     "data": {
      "text/plain": [
       "chu-montpellier.mssante.fr        1921\n",
       "chru-strasbourg.mssante.fr        1412\n",
       "chu-toulouse.mssante.fr           1178\n",
       "chu-nice.mssante.fr                946\n",
       "aphp.mssante.fr                    928\n",
       "chu-rouen.mssante.fr               834\n",
       "chu-tours.mssante.fr               748\n",
       "chu-dijon.mssante.fr               692\n",
       "chu-nimes.mssante.fr               652\n",
       "chu-poitiers.mssante.fr            652\n",
       "chu-limoges.mssante.fr             635\n",
       "chu-caen.mssante.fr                626\n",
       "chu-besancon.mssante.fr            579\n",
       "chu-bordeaux.mssante.fr             85\n",
       "chu-clermontferrand.mssante.fr      82\n",
       "aphm.mssante.fr                      9\n",
       "chu-lyon.mssante.fr                  4\n",
       "chru-lille.mssante.fr                2\n",
       "chu-rennes.mssante.fr                1\n",
       "chu-amiens.mssante.fr                1\n",
       "Name: 1, dtype: int64"
      ]
     },
     "execution_count": 20,
     "metadata": {},
     "output_type": "execute_result"
    }
   ],
   "source": [
    "chu_vals"
   ]
  },
  {
   "cell_type": "code",
   "execution_count": 21,
   "metadata": {},
   "outputs": [
    {
     "data": {
      "text/plain": [
       "pandas.core.series.Series"
      ]
     },
     "execution_count": 21,
     "metadata": {},
     "output_type": "execute_result"
    }
   ],
   "source": [
    "type(chu_vals)"
   ]
  },
  {
   "cell_type": "code",
   "execution_count": 22,
   "metadata": {},
   "outputs": [
    {
     "data": {
      "text/plain": [
       "chu-montpellier.mssante.fr    1921\n",
       "chru-strasbourg.mssante.fr    1412\n",
       "chu-toulouse.mssante.fr       1178\n",
       "chu-nice.mssante.fr            946\n",
       "aphp.mssante.fr                928\n",
       "Name: 1, dtype: int64"
      ]
     },
     "execution_count": 22,
     "metadata": {},
     "output_type": "execute_result"
    }
   ],
   "source": [
    "chu_vals.head()\n"
   ]
  },
  {
   "cell_type": "code",
   "execution_count": 24,
   "metadata": {},
   "outputs": [
    {
     "data": {
      "text/plain": [
       "[Index(['chu-montpellier.mssante.fr', 'chru-strasbourg.mssante.fr',\n",
       "        'chu-toulouse.mssante.fr', 'chu-nice.mssante.fr', 'aphp.mssante.fr',\n",
       "        'chu-rouen.mssante.fr', 'chu-tours.mssante.fr', 'chu-dijon.mssante.fr',\n",
       "        'chu-nimes.mssante.fr', 'chu-poitiers.mssante.fr',\n",
       "        'chu-limoges.mssante.fr', 'chu-caen.mssante.fr',\n",
       "        'chu-besancon.mssante.fr', 'chu-bordeaux.mssante.fr',\n",
       "        'chu-clermontferrand.mssante.fr', 'aphm.mssante.fr',\n",
       "        'chu-lyon.mssante.fr', 'chru-lille.mssante.fr', 'chu-rennes.mssante.fr',\n",
       "        'chu-amiens.mssante.fr'],\n",
       "       dtype='object')]"
      ]
     },
     "execution_count": 24,
     "metadata": {},
     "output_type": "execute_result"
    }
   ],
   "source": [
    "chu_vals.axes"
   ]
  },
  {
   "cell_type": "code",
   "execution_count": 25,
   "metadata": {},
   "outputs": [
    {
     "data": {
      "text/plain": [
       "<memory at 0x10ae83e88>"
      ]
     },
     "execution_count": 25,
     "metadata": {},
     "output_type": "execute_result"
    }
   ],
   "source": [
    "chu_vals.data"
   ]
  },
  {
   "cell_type": "code",
   "execution_count": 26,
   "metadata": {},
   "outputs": [
    {
     "data": {
      "text/plain": [
       "array([1921, 1412, 1178,  946,  928,  834,  748,  692,  652,  652,  635,\n",
       "        626,  579,   85,   82,    9,    4,    2,    1,    1])"
      ]
     },
     "execution_count": 26,
     "metadata": {},
     "output_type": "execute_result"
    }
   ],
   "source": [
    "chu_vals.values"
   ]
  },
  {
   "cell_type": "code",
   "execution_count": 39,
   "metadata": {},
   "outputs": [
    {
     "data": {
      "text/plain": [
       "['chu-montpellier.mssante.fr',\n",
       " 'chru-strasbourg.mssante.fr',\n",
       " 'chu-toulouse.mssante.fr',\n",
       " 'chu-nice.mssante.fr',\n",
       " 'aphp.mssante.fr',\n",
       " 'chu-rouen.mssante.fr',\n",
       " 'chu-tours.mssante.fr',\n",
       " 'chu-dijon.mssante.fr',\n",
       " 'chu-nimes.mssante.fr',\n",
       " 'chu-poitiers.mssante.fr',\n",
       " 'chu-limoges.mssante.fr',\n",
       " 'chu-caen.mssante.fr',\n",
       " 'chu-besancon.mssante.fr',\n",
       " 'chu-bordeaux.mssante.fr',\n",
       " 'chu-clermontferrand.mssante.fr',\n",
       " 'aphm.mssante.fr',\n",
       " 'chu-lyon.mssante.fr',\n",
       " 'chru-lille.mssante.fr',\n",
       " 'chu-rennes.mssante.fr',\n",
       " 'chu-amiens.mssante.fr']"
      ]
     },
     "execution_count": 39,
     "metadata": {},
     "output_type": "execute_result"
    }
   ],
   "source": [
    "list(chu_vals.index.get_values())"
   ]
  },
  {
   "cell_type": "code",
   "execution_count": 51,
   "metadata": {},
   "outputs": [],
   "source": [
    "sdf = pandas.DataFrame(data={'CHU':list(chu_vals.index.get_values()), 'nb':list(chu_vals.values)})"
   ]
  },
  {
   "cell_type": "code",
   "execution_count": 52,
   "metadata": {},
   "outputs": [
    {
     "data": {
      "text/html": [
       "<div>\n",
       "<style scoped>\n",
       "    .dataframe tbody tr th:only-of-type {\n",
       "        vertical-align: middle;\n",
       "    }\n",
       "\n",
       "    .dataframe tbody tr th {\n",
       "        vertical-align: top;\n",
       "    }\n",
       "\n",
       "    .dataframe thead th {\n",
       "        text-align: right;\n",
       "    }\n",
       "</style>\n",
       "<table border=\"1\" class=\"dataframe\">\n",
       "  <thead>\n",
       "    <tr style=\"text-align: right;\">\n",
       "      <th></th>\n",
       "      <th>CHU</th>\n",
       "      <th>nb</th>\n",
       "    </tr>\n",
       "  </thead>\n",
       "  <tbody>\n",
       "    <tr>\n",
       "      <th>0</th>\n",
       "      <td>chu-montpellier.mssante.fr</td>\n",
       "      <td>1921</td>\n",
       "    </tr>\n",
       "    <tr>\n",
       "      <th>1</th>\n",
       "      <td>chru-strasbourg.mssante.fr</td>\n",
       "      <td>1412</td>\n",
       "    </tr>\n",
       "    <tr>\n",
       "      <th>2</th>\n",
       "      <td>chu-toulouse.mssante.fr</td>\n",
       "      <td>1178</td>\n",
       "    </tr>\n",
       "    <tr>\n",
       "      <th>3</th>\n",
       "      <td>chu-nice.mssante.fr</td>\n",
       "      <td>946</td>\n",
       "    </tr>\n",
       "    <tr>\n",
       "      <th>4</th>\n",
       "      <td>aphp.mssante.fr</td>\n",
       "      <td>928</td>\n",
       "    </tr>\n",
       "    <tr>\n",
       "      <th>5</th>\n",
       "      <td>chu-rouen.mssante.fr</td>\n",
       "      <td>834</td>\n",
       "    </tr>\n",
       "    <tr>\n",
       "      <th>6</th>\n",
       "      <td>chu-tours.mssante.fr</td>\n",
       "      <td>748</td>\n",
       "    </tr>\n",
       "    <tr>\n",
       "      <th>7</th>\n",
       "      <td>chu-dijon.mssante.fr</td>\n",
       "      <td>692</td>\n",
       "    </tr>\n",
       "    <tr>\n",
       "      <th>8</th>\n",
       "      <td>chu-nimes.mssante.fr</td>\n",
       "      <td>652</td>\n",
       "    </tr>\n",
       "    <tr>\n",
       "      <th>9</th>\n",
       "      <td>chu-poitiers.mssante.fr</td>\n",
       "      <td>652</td>\n",
       "    </tr>\n",
       "    <tr>\n",
       "      <th>10</th>\n",
       "      <td>chu-limoges.mssante.fr</td>\n",
       "      <td>635</td>\n",
       "    </tr>\n",
       "    <tr>\n",
       "      <th>11</th>\n",
       "      <td>chu-caen.mssante.fr</td>\n",
       "      <td>626</td>\n",
       "    </tr>\n",
       "    <tr>\n",
       "      <th>12</th>\n",
       "      <td>chu-besancon.mssante.fr</td>\n",
       "      <td>579</td>\n",
       "    </tr>\n",
       "    <tr>\n",
       "      <th>13</th>\n",
       "      <td>chu-bordeaux.mssante.fr</td>\n",
       "      <td>85</td>\n",
       "    </tr>\n",
       "    <tr>\n",
       "      <th>14</th>\n",
       "      <td>chu-clermontferrand.mssante.fr</td>\n",
       "      <td>82</td>\n",
       "    </tr>\n",
       "    <tr>\n",
       "      <th>15</th>\n",
       "      <td>aphm.mssante.fr</td>\n",
       "      <td>9</td>\n",
       "    </tr>\n",
       "    <tr>\n",
       "      <th>16</th>\n",
       "      <td>chu-lyon.mssante.fr</td>\n",
       "      <td>4</td>\n",
       "    </tr>\n",
       "    <tr>\n",
       "      <th>17</th>\n",
       "      <td>chru-lille.mssante.fr</td>\n",
       "      <td>2</td>\n",
       "    </tr>\n",
       "    <tr>\n",
       "      <th>18</th>\n",
       "      <td>chu-rennes.mssante.fr</td>\n",
       "      <td>1</td>\n",
       "    </tr>\n",
       "    <tr>\n",
       "      <th>19</th>\n",
       "      <td>chu-amiens.mssante.fr</td>\n",
       "      <td>1</td>\n",
       "    </tr>\n",
       "  </tbody>\n",
       "</table>\n",
       "</div>"
      ],
      "text/plain": [
       "                               CHU    nb\n",
       "0       chu-montpellier.mssante.fr  1921\n",
       "1       chru-strasbourg.mssante.fr  1412\n",
       "2          chu-toulouse.mssante.fr  1178\n",
       "3              chu-nice.mssante.fr   946\n",
       "4                  aphp.mssante.fr   928\n",
       "5             chu-rouen.mssante.fr   834\n",
       "6             chu-tours.mssante.fr   748\n",
       "7             chu-dijon.mssante.fr   692\n",
       "8             chu-nimes.mssante.fr   652\n",
       "9          chu-poitiers.mssante.fr   652\n",
       "10          chu-limoges.mssante.fr   635\n",
       "11             chu-caen.mssante.fr   626\n",
       "12         chu-besancon.mssante.fr   579\n",
       "13         chu-bordeaux.mssante.fr    85\n",
       "14  chu-clermontferrand.mssante.fr    82\n",
       "15                 aphm.mssante.fr     9\n",
       "16             chu-lyon.mssante.fr     4\n",
       "17           chru-lille.mssante.fr     2\n",
       "18           chu-rennes.mssante.fr     1\n",
       "19           chu-amiens.mssante.fr     1"
      ]
     },
     "execution_count": 52,
     "metadata": {},
     "output_type": "execute_result"
    }
   ],
   "source": [
    "sdf"
   ]
  },
  {
   "cell_type": "markdown",
   "metadata": {},
   "source": [
    "Graph avec seaborn"
   ]
  },
  {
   "cell_type": "code",
   "execution_count": 2,
   "metadata": {},
   "outputs": [],
   "source": [
    "import seaborn as sns"
   ]
  },
  {
   "cell_type": "code",
   "execution_count": 57,
   "metadata": {},
   "outputs": [],
   "source": [
    "sns.set(style=\"darkgrid\")\n",
    "sns.set(rc={'figure.figsize':(12,10)})"
   ]
  },
  {
   "cell_type": "code",
   "execution_count": 58,
   "metadata": {},
   "outputs": [
    {
     "data": {
      "image/png": "[encoded data removed]",
      "text/plain": [
       "<matplotlib.figure.Figure at 0x10c89d2e8>"
      ]
     },
     "metadata": {},
     "output_type": "display_data"
    }
   ],
   "source": [
    "ax = sns.barplot(y=\"CHU\", x='nb', data=sdf)"
   ]
  }
 ],
 "metadata": {
  "kernelspec": {
   "display_name": "Python 3",
   "language": "python",
   "name": "python3"
  },
  "language_info": {
   "codemirror_mode": {
    "name": "ipython",
    "version": 3
   },
   "file_extension": ".py",
   "mimetype": "text/x-python",
   "name": "python",
   "nbconvert_exporter": "python",
   "pygments_lexer": "ipython3",
   "version": "3.6.4"
  }
 },
 "nbformat": 4,
 "nbformat_minor": 2
}
