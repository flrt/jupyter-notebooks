{
 "cells": [
  {
   "cell_type": "markdown",
   "metadata": {},
   "source": [
    "# [Opikanoba.org](https://opikanoba.org)\n",
    "\n",
    "## Extraction Publique RPPS \n",
    "Ce notebook se base sur l'extraction publique du 28/05/2018 disponible sur le site de l'ASIP Sante.\n",
    "Elle est téléchargeable dans la rubrique [Extractions en libre accès](https://annuaire.sante.fr/web/site-pro/extractions-publiques). Le fichier est téléchargé localement dans le répertoire `/tmp/asip`."
   ]
  },
  {
   "cell_type": "code",
   "execution_count": 1,
   "metadata": {},
   "outputs": [],
   "source": [
    "fname='/tmp/asip/ExtractionMonoTable_CAT18_ToutePopulation_201805280855.csv'"
   ]
  },
  {
   "cell_type": "markdown",
   "metadata": {},
   "source": [
    "Définition des noms de colonnes, plus faciles à manipuler que les noms de l'entete du CSV.\n",
    "`\"Type d'identifiant PP\"` est remplacé par `type_identifiant_pp`"
   ]
  },
  {
   "cell_type": "code",
   "execution_count": 2,
   "metadata": {},
   "outputs": [],
   "source": [
    "KEYS_CAT18 = [\"type_identifiant_pp\", \"identifiant_pp\", \"identification_nationale_pp\",\n",
    "                  \"code_civilite_exercice\", \"libelle_civilite_exercice\", \"nom_exercice\",\n",
    "                  \"prenom_exercice\", \"code_profession\", \"libelle_profession\",\n",
    "                  \"code_categorie_professionnelle\", \"libelle_categorie_professionnelle\",\n",
    "                  \"code_savoir_faire\", \"libelle_savoir_faire\", \"code_type_savoir_faire\",\n",
    "                  \"libelle_type_savoir_faire\", \"numero_siret_site\", \"numero_siren_site\",\n",
    "                  \"numero_finess_site\", \"numero_finess_etablissement_juridique\",\n",
    "                  \"raison_sociale_site\", \"enseigne_commerciale_site\", \"identifiant_structure\",\n",
    "                  \"complement_destinataire\", \"complement_point_geographique\",\n",
    "                  \"numero_voie\", \"indice_repetition_voie\", \"code_type_de_voie\", \"libelle_type_de_voie\",\n",
    "                  \"libelle_voie\", \"mention_distribution\", \"bureau_cedex\", \"code_postal\",\n",
    "                  \"code_commune\", \"libelle_commune\", \"code_pays\", \"libelle_pays\",\n",
    "                  \"telephone\", \"telephone_2\", \"telecopie\", \"adresse_e-mail\",\n",
    "                  \"adresse_bal_mssante\"\n",
    "                  ]"
   ]
  },
  {
   "cell_type": "markdown",
   "metadata": {},
   "source": [
    "Lecture du fichier dans pandas\n"
   ]
  },
  {
   "cell_type": "code",
   "execution_count": 3,
   "metadata": {},
   "outputs": [
    {
     "name": "stderr",
     "output_type": "stream",
     "text": [
      "/anaconda3/lib/python3.6/site-packages/IPython/core/interactiveshell.py:2728: DtypeWarning: Columns (24,31) have mixed types. Specify dtype option on import or set low_memory=False.\n",
      "  interactivity=interactivity, compiler=compiler, result=result)\n"
     ]
    }
   ],
   "source": [
    "import pandas\n",
    "df=pandas.read_csv(fname, delimiter=';', names=KEYS_CAT18, header=0, index_col=False)\n"
   ]
  },
  {
   "cell_type": "markdown",
   "metadata": {},
   "source": [
    "Nombre de lignes dans le fichier"
   ]
  },
  {
   "cell_type": "code",
   "execution_count": 4,
   "metadata": {},
   "outputs": [
    {
     "data": {
      "text/plain": [
       "698443"
      ]
     },
     "execution_count": 4,
     "metadata": {},
     "output_type": "execute_result"
    }
   ],
   "source": [
    "len(df)"
   ]
  },
  {
   "cell_type": "markdown",
   "metadata": {},
   "source": [
    "Nombre de PS uniques"
   ]
  },
  {
   "cell_type": "code",
   "execution_count": 149,
   "metadata": {},
   "outputs": [
    {
     "data": {
      "text/plain": [
       "563447"
      ]
     },
     "execution_count": 149,
     "metadata": {},
     "output_type": "execute_result"
    }
   ],
   "source": [
    "df['identifiant_pp'].nunique()"
   ]
  },
  {
   "cell_type": "markdown",
   "metadata": {},
   "source": [
    "Verification qu'il y a autant de code profession différents que de libellés pour ces mêmes codes"
   ]
  },
  {
   "cell_type": "code",
   "execution_count": 6,
   "metadata": {},
   "outputs": [
    {
     "data": {
      "text/plain": [
       "True"
      ]
     },
     "execution_count": 6,
     "metadata": {},
     "output_type": "execute_result"
    }
   ],
   "source": [
    "df['code_profession'].nunique() == df['libelle_profession'].nunique()"
   ]
  },
  {
   "cell_type": "markdown",
   "metadata": {},
   "source": [
    "### Professions présentes dans le fichier"
   ]
  },
  {
   "cell_type": "code",
   "execution_count": 7,
   "metadata": {},
   "outputs": [
    {
     "data": {
      "text/plain": [
       "['Médecin',\n",
       " 'Sage-Femme',\n",
       " 'Pharmacien',\n",
       " 'Chirurgien-Dentiste',\n",
       " 'Pédicure-Podologue',\n",
       " 'Masseur-Kinésithérapeute']"
      ]
     },
     "execution_count": 7,
     "metadata": {},
     "output_type": "execute_result"
    }
   ],
   "source": [
    "list(df.libelle_profession.unique())"
   ]
  },
  {
   "cell_type": "markdown",
   "metadata": {},
   "source": [
    "Répartition des codes profession"
   ]
  },
  {
   "cell_type": "code",
   "execution_count": 8,
   "metadata": {},
   "outputs": [
    {
     "data": {
      "text/plain": [
       "10    413234\n",
       "70    101962\n",
       "21     76898\n",
       "40     57611\n",
       "50     32847\n",
       "80     15891\n",
       "Name: code_profession, dtype: int64"
      ]
     },
     "execution_count": 8,
     "metadata": {},
     "output_type": "execute_result"
    }
   ],
   "source": [
    "df.code_profession.value_counts()"
   ]
  },
  {
   "cell_type": "code",
   "execution_count": 9,
   "metadata": {},
   "outputs": [],
   "source": [
    "%matplotlib inline\n",
    "import matplotlib as mpl\n",
    "import matplotlib.pyplot as plt"
   ]
  },
  {
   "cell_type": "code",
   "execution_count": 10,
   "metadata": {},
   "outputs": [],
   "source": [
    "prof=df.libelle_profession.value_counts()"
   ]
  },
  {
   "cell_type": "markdown",
   "metadata": {},
   "source": [
    "## Représentation graphique de la répartition des PS par profession"
   ]
  },
  {
   "cell_type": "code",
   "execution_count": 11,
   "metadata": {},
   "outputs": [
    {
     "data": {
      "image/png": "[encoded data removed]",
      "text/plain": [
       "<matplotlib.figure.Figure at 0x1072726a0>"
      ]
     },
     "metadata": {},
     "output_type": "display_data"
    }
   ],
   "source": [
    "import matplotlib.cm as cm, matplotlib.font_manager as fm\n",
    "\n",
    "label_font = fm.FontProperties(family='DejaVu Sans', style='normal', size=14, weight='normal', stretch='normal')\n",
    "ticks_font = fm.FontProperties(family='DejaVu Sans', style='normal', size=8, weight='normal', stretch='normal')\n",
    "\n",
    "gr=prof.plot(kind='bar', figsize=[10,5], alpha=0.6, color='g', edgecolor='k', grid=False, ylim=[10000,420000])\n",
    "gr.set_xticks(list(map(lambda x: x, range(0, len(prof)))))\n",
    "gr.set_xticklabels(prof.index, rotation=45, rotation_mode='anchor', ha='right', fontproperties=ticks_font)\n",
    "gr.yaxis.grid(True)\n",
    "for label in gr.get_yticklabels():\n",
    "    label.set_fontproperties(ticks_font)\n",
    "gr.set_facecolor('#f0f0f0')\n",
    "gr.set_title('Répartition par profession')\n",
    "gr.set_xlabel('', fontproperties=label_font)\n",
    "gr.set_ylabel('Nombre de PS', fontproperties=label_font)\n",
    "plt.show()\n"
   ]
  },
  {
   "cell_type": "markdown",
   "metadata": {},
   "source": [
    "Infos sur les savoirs faire : les 10 premiers"
   ]
  },
  {
   "cell_type": "code",
   "execution_count": 12,
   "metadata": {},
   "outputs": [
    {
     "data": {
      "text/plain": [
       "Spécialiste en Médecine Générale       80482\n",
       "Qualifié en Médecine Générale          73900\n",
       "Radio-diagnostic                       29813\n",
       "Psychiatrie                            22110\n",
       "Anesthesie-réanimation                 17985\n",
       "Médecine Générale                      15340\n",
       "Cardiologie et maladies vasculaires    14840\n",
       "Pédiatrie                              13505\n",
       "Ophtalmologie                          12576\n",
       "Gynécologie-obstétrique                 8503\n",
       "Name: libelle_savoir_faire, dtype: int64"
      ]
     },
     "execution_count": 12,
     "metadata": {},
     "output_type": "execute_result"
    }
   ],
   "source": [
    "df.libelle_savoir_faire.value_counts().head(10)"
   ]
  },
  {
   "cell_type": "markdown",
   "metadata": {},
   "source": [
    "Les savoir faire les *moins* représentés"
   ]
  },
  {
   "cell_type": "code",
   "execution_count": 13,
   "metadata": {},
   "outputs": [
    {
     "data": {
      "text/plain": [
       "Hématologie (option Onco-hématologie)                           90\n",
       "Qualification PAC                                               68\n",
       "Urologie                                                        54\n",
       "Gynéco-obstétrique et Gynéco médicale option Gynéco-médicale    33\n",
       "Médecine vasculaire                                             30\n",
       "CHIRURGIE ORALE                                                 19\n",
       "Recherche médicale                                              14\n",
       "Médecine légale et expertises médicales                         14\n",
       "Exp. prat. art. R.5124-16 du CSP Thérapie Cellulaire             5\n",
       "Expérience pratique article R.5141-129 du CSP                    2\n",
       "Name: libelle_savoir_faire, dtype: int64"
      ]
     },
     "execution_count": 13,
     "metadata": {},
     "output_type": "execute_result"
    }
   ],
   "source": [
    "df.libelle_savoir_faire.value_counts().tail(10)"
   ]
  },
  {
   "cell_type": "markdown",
   "metadata": {},
   "source": [
    "## Répartition des PS par catégorie avec représentation graphique"
   ]
  },
  {
   "cell_type": "code",
   "execution_count": 14,
   "metadata": {},
   "outputs": [
    {
     "data": {
      "text/plain": [
       "Civil        683060\n",
       "Etudiant      12620\n",
       "Militaire      2763\n",
       "Name: libelle_categorie_professionnelle, dtype: int64"
      ]
     },
     "execution_count": 14,
     "metadata": {},
     "output_type": "execute_result"
    }
   ],
   "source": [
    "df.libelle_categorie_professionnelle.value_counts()"
   ]
  },
  {
   "cell_type": "code",
   "execution_count": 15,
   "metadata": {},
   "outputs": [],
   "source": [
    "catpro=df.libelle_categorie_professionnelle.value_counts()"
   ]
  },
  {
   "cell_type": "code",
   "execution_count": 22,
   "metadata": {},
   "outputs": [
    {
     "data": {
      "image/png": "[encoded data removed]",
      "text/plain": [
       "<matplotlib.figure.Figure at 0x10fe01c88>"
      ]
     },
     "metadata": {},
     "output_type": "display_data"
    }
   ],
   "source": [
    "fig, gr2 = plt.subplots(figsize=[4,4])\n",
    "gr2.pie(catpro, labels=catpro.index, colors=['#a8e6cf', '#ffaaa5', '#ffd3b6'])\n",
    "gr2.set_title('Répartition par catégorie')\n",
    "gr2.axis('equal')\n",
    "plt.show()\n"
   ]
  },
  {
   "cell_type": "markdown",
   "metadata": {},
   "source": [
    "# Adresses Mail MSSanté\n",
    "Toutes les adresses MSSanté sont analysées et seule la partie postérieure au caractère @ est conservée, pour ne garder que les noms de domaines."
   ]
  },
  {
   "cell_type": "code",
   "execution_count": 73,
   "metadata": {},
   "outputs": [],
   "source": [
    "mss_providers = df.adresse_bal_mssante.str.split('@', expand=True).get(1)"
   ]
  },
  {
   "cell_type": "code",
   "execution_count": 103,
   "metadata": {},
   "outputs": [
    {
     "data": {
      "text/plain": [
       "698443"
      ]
     },
     "execution_count": 103,
     "metadata": {},
     "output_type": "execute_result"
    }
   ],
   "source": [
    "len(mss_providers)"
   ]
  },
  {
   "cell_type": "markdown",
   "metadata": {},
   "source": [
    "mss_providers : série avec NaN si pas de domaine mssanté, sinon le domaine. (Index, Domain)"
   ]
  },
  {
   "cell_type": "markdown",
   "metadata": {},
   "source": [
    "Liste des enregistrements qui ont 1 adresse MSSante du domaine spécifié : si 1 PS a 2 activités, il y a 2 lignes pour 1 même adresse. `df.loc[1687]` permet de vérifier le PS."
   ]
  },
  {
   "cell_type": "code",
   "execution_count": 114,
   "metadata": {},
   "outputs": [
    {
     "data": {
      "text/plain": [
       "1687    chu-dijon.mssante.fr\n",
       "2270    chu-dijon.mssante.fr\n",
       "2562    chu-dijon.mssante.fr\n",
       "4625    chu-dijon.mssante.fr\n",
       "5104    chu-dijon.mssante.fr\n",
       "Name: 1, dtype: object"
      ]
     },
     "execution_count": 114,
     "metadata": {},
     "output_type": "execute_result"
    }
   ],
   "source": [
    "mss_providers.where(mss_providers == \"chu-dijon.mssante.fr\").dropna().head()"
   ]
  },
  {
   "cell_type": "code",
   "execution_count": 115,
   "metadata": {},
   "outputs": [],
   "source": [
    "# Affichage des PS avec tri sur l'adresse mail \n",
    "# df.loc[mss_providers.where(mss_providers == \"chu-dijon.mssante.fr\").dropna().index].sort_values(by='adresse_bal_mssante')"
   ]
  },
  {
   "cell_type": "markdown",
   "metadata": {},
   "source": [
    "Nombre de lignes contenant 1 PS avec 1 adresse MSSanté du domaine du `chu-dijon.mssante.f`"
   ]
  },
  {
   "cell_type": "code",
   "execution_count": 101,
   "metadata": {},
   "outputs": [
    {
     "data": {
      "text/plain": [
       "1083"
      ]
     },
     "execution_count": 101,
     "metadata": {},
     "output_type": "execute_result"
    }
   ],
   "source": [
    "len(df.loc[mss_providers.where(mss_providers == \"chu-dijon.mssante.fr\").dropna().index].adresse_bal_mssante)"
   ]
  },
  {
   "cell_type": "code",
   "execution_count": 116,
   "metadata": {},
   "outputs": [
    {
     "data": {
      "text/plain": [
       "1083"
      ]
     },
     "execution_count": 116,
     "metadata": {},
     "output_type": "execute_result"
    }
   ],
   "source": [
    "df[df.adresse_bal_mssante.astype(str).str.contains(\"chu-dijon.mssante.fr\")].adresse_bal_mssante.count()"
   ]
  },
  {
   "cell_type": "code",
   "execution_count": 58,
   "metadata": {},
   "outputs": [
    {
     "data": {
      "text/plain": [
       "1083"
      ]
     },
     "execution_count": 58,
     "metadata": {},
     "output_type": "execute_result"
    }
   ],
   "source": [
    "len(df[df.adresse_bal_mssante.astype(str).str.contains(\"chu-dijon.mssante.fr\")])"
   ]
  },
  {
   "cell_type": "markdown",
   "metadata": {},
   "source": [
    "Pour n'avoir que les adresses MSSanté différentes"
   ]
  },
  {
   "cell_type": "code",
   "execution_count": 102,
   "metadata": {},
   "outputs": [
    {
     "data": {
      "text/plain": [
       "686"
      ]
     },
     "execution_count": 102,
     "metadata": {},
     "output_type": "execute_result"
    }
   ],
   "source": [
    "len(pandas.unique(df.loc[mss_providers.where(mss_providers == \"chu-dijon.mssante.fr\").dropna().index].adresse_bal_mssante))"
   ]
  },
  {
   "cell_type": "markdown",
   "metadata": {},
   "source": [
    "Affichage des noms de domaines les plus utilisés : les 20 premiers qui comptent le plus d'adresses mail MSSanté. Les lignes ne sont pas dédoublonnées."
   ]
  },
  {
   "cell_type": "code",
   "execution_count": 150,
   "metadata": {},
   "outputs": [
    {
     "data": {
      "text/plain": [
       "medecin.mssante.fr                     35290\n",
       "aura.mssante.fr                        12035\n",
       "ramsaygds.mssante.fr                   12004\n",
       "medecin.mp.mssante.fr                   5813\n",
       "sephira.mssante.fr                      5459\n",
       "pro.mssante.fr                          5391\n",
       "masseur-kinesitherapeute.mssante.fr     3111\n",
       "chu-montpellier.mssante.fr              2687\n",
       "ssa.mssante.fr                          2520\n",
       "aquitaine.mssante.fr                    2416\n",
       "Name: 1, dtype: int64"
      ]
     },
     "execution_count": 150,
     "metadata": {},
     "output_type": "execute_result"
    }
   ],
   "source": [
    "mss_providers.value_counts().head(10)"
   ]
  },
  {
   "cell_type": "markdown",
   "metadata": {},
   "source": [
    "Suppression des lignes en double. Si la même adresse mssanté apparait plusieurs fois, la 1ere est gardée, les suivantes sont supprimées."
   ]
  },
  {
   "cell_type": "code",
   "execution_count": 135,
   "metadata": {},
   "outputs": [],
   "source": [
    "df2 = df.loc[df.drop_duplicates('adresse_bal_mssante').adresse_bal_mssante.dropna().index]"
   ]
  },
  {
   "cell_type": "code",
   "execution_count": 136,
   "metadata": {},
   "outputs": [
    {
     "data": {
      "text/plain": [
       "94844"
      ]
     },
     "execution_count": 136,
     "metadata": {},
     "output_type": "execute_result"
    }
   ],
   "source": [
    "len(df2)"
   ]
  },
  {
   "cell_type": "code",
   "execution_count": 140,
   "metadata": {},
   "outputs": [],
   "source": [
    "# df2.adresse_bal_mssante.value_counts()\n",
    "mss_providers2 = df2.adresse_bal_mssante.str.split('@', expand=True).get(1)"
   ]
  },
  {
   "cell_type": "code",
   "execution_count": 151,
   "metadata": {},
   "outputs": [
    {
     "data": {
      "text/plain": [
       "medecin.mssante.fr                     25165\n",
       "aura.mssante.fr                         8267\n",
       "ramsaygds.mssante.fr                    5023\n",
       "medecin.mp.mssante.fr                   4526\n",
       "pro.mssante.fr                          4014\n",
       "sephira.mssante.fr                      3963\n",
       "masseur-kinesitherapeute.mssante.fr     2704\n",
       "ssa.mssante.fr                          2193\n",
       "chu-montpellier.mssante.fr              1869\n",
       "bretagne.mssante.fr                     1761\n",
       "Name: 1, dtype: int64"
      ]
     },
     "execution_count": 151,
     "metadata": {},
     "output_type": "execute_result"
    }
   ],
   "source": [
    "mss_providers2.value_counts().head(10)"
   ]
  },
  {
   "cell_type": "code",
   "execution_count": 148,
   "metadata": {},
   "outputs": [
    {
     "data": {
      "text/plain": [
       "686"
      ]
     },
     "execution_count": 148,
     "metadata": {},
     "output_type": "execute_result"
    }
   ],
   "source": [
    "mss_providers2.where(mss_providers == \"chu-dijon.mssante.fr\").dropna().count()"
   ]
  },
  {
   "cell_type": "markdown",
   "metadata": {},
   "source": [
    "Filtre sur les CHU, CHRU, APHM et APHP pour listes les adresses mails attributés à 1 CHU"
   ]
  },
  {
   "cell_type": "code",
   "execution_count": 152,
   "metadata": {},
   "outputs": [],
   "source": [
    "chu_vals=mss_providers2.value_counts().filter(regex='.*((ch(r?)u-)|aphm|aphp).*', axis=0)"
   ]
  },
  {
   "cell_type": "code",
   "execution_count": 144,
   "metadata": {},
   "outputs": [
    {
     "data": {
      "text/plain": [
       "chu-montpellier.mssante.fr        1869\n",
       "chru-strasbourg.mssante.fr        1410\n",
       "chu-toulouse.mssante.fr           1152\n",
       "chu-nice.mssante.fr                943\n",
       "aphp.mssante.fr                    927\n",
       "chu-rouen.mssante.fr               833\n",
       "chu-tours.mssante.fr               745\n",
       "chu-dijon.mssante.fr               686\n",
       "chu-nimes.mssante.fr               647\n",
       "chu-poitiers.mssante.fr            647\n",
       "chu-caen.mssante.fr                622\n",
       "chu-limoges.mssante.fr             620\n",
       "chu-besancon.mssante.fr            576\n",
       "chu-bordeaux.mssante.fr             85\n",
       "chu-clermontferrand.mssante.fr      81\n",
       "aphm.mssante.fr                      9\n",
       "chu-lyon.mssante.fr                  4\n",
       "chru-lille.mssante.fr                2\n",
       "chu-amiens.mssante.fr                1\n",
       "chu-rennes.mssante.fr                1\n",
       "Name: 1, dtype: int64"
      ]
     },
     "execution_count": 144,
     "metadata": {},
     "output_type": "execute_result"
    }
   ],
   "source": [
    "chu_vals"
   ]
  },
  {
   "cell_type": "markdown",
   "metadata": {},
   "source": [
    "Représentation graphique (très basique) de la répartition"
   ]
  },
  {
   "cell_type": "code",
   "execution_count": 145,
   "metadata": {},
   "outputs": [
    {
     "data": {
      "image/png": "[encoded data removed]",
      "text/plain": [
       "<matplotlib.figure.Figure at 0x10a6005c0>"
      ]
     },
     "metadata": {},
     "output_type": "display_data"
    }
   ],
   "source": [
    "fig, gr3 = plt.subplots(figsize=[4,4])\n",
    "gr3.pie(chu_vals, labels=chu_vals.index)\n",
    "gr3.axis('equal')\n",
    "plt.show()"
   ]
  }
 ],
 "metadata": {
  "kernelspec": {
   "display_name": "Python 3",
   "language": "python",
   "name": "python3"
  },
  "language_info": {
   "codemirror_mode": {
    "name": "ipython",
    "version": 3
   },
   "file_extension": ".py",
   "mimetype": "text/x-python",
   "name": "python",
   "nbconvert_exporter": "python",
   "pygments_lexer": "ipython3",
   "version": "3.6.4"
  }
 },
 "nbformat": 4,
 "nbformat_minor": 2
}
